{
  "nbformat": 4,
  "nbformat_minor": 0,
  "metadata": {
    "colab": {
      "provenance": [],
      "authorship_tag": "ABX9TyNRV7DpbiLrtFMQqudcmCuR",
      "include_colab_link": true
    },
    "kernelspec": {
      "name": "python3",
      "display_name": "Python 3"
    },
    "language_info": {
      "name": "python"
    }
  },
  "cells": [
    {
      "cell_type": "markdown",
      "metadata": {
        "id": "view-in-github",
        "colab_type": "text"
      },
      "source": [
        "<a href=\"https://colab.research.google.com/github/CodeXplod/CodeXplod/blob/main/Visa_Project_Prediction.ipynb\" target=\"_parent\"><img src=\"https://colab.research.google.com/assets/colab-badge.svg\" alt=\"Open In Colab\"/></a>"
      ]
    },
    {
      "cell_type": "code",
      "execution_count": 62,
      "metadata": {
        "colab": {
          "base_uri": "https://localhost:8080/"
        },
        "id": "sAp-FwKQOg_0",
        "outputId": "8b05d05a-d7f2-4852-ec8c-78bbd8f851df"
      },
      "outputs": [
        {
          "output_type": "stream",
          "name": "stdout",
          "text": [
            "MSE: 2343.335776684522\n",
            "R2: 0.8339944105871253\n",
            "Enter country: Japan\n",
            "Enter month (e.g., Jan, Feb, etc.): Mar\n",
            "Enter year (e.g., 2020): 2022\n",
            "Enter number of appliances: 4\n",
            "Enter appliance 1: Lights\n",
            "Enter appliance 2: Fan\n",
            "Enter appliance 3: Refrigerator\n",
            "Enter appliance 4: Air Conditioner\n",
            "Predicted energy consumption for 4 appliances: 605.49 kWh\n"
          ]
        },
        {
          "output_type": "stream",
          "name": "stderr",
          "text": [
            "/usr/local/lib/python3.10/dist-packages/sklearn/base.py:439: UserWarning: X does not have valid feature names, but RandomForestRegressor was fitted with feature names\n",
            "  warnings.warn(\n",
            "/usr/local/lib/python3.10/dist-packages/sklearn/base.py:439: UserWarning: X does not have valid feature names, but RandomForestRegressor was fitted with feature names\n",
            "  warnings.warn(\n",
            "/usr/local/lib/python3.10/dist-packages/sklearn/base.py:439: UserWarning: X does not have valid feature names, but RandomForestRegressor was fitted with feature names\n",
            "  warnings.warn(\n",
            "/usr/local/lib/python3.10/dist-packages/sklearn/base.py:439: UserWarning: X does not have valid feature names, but RandomForestRegressor was fitted with feature names\n",
            "  warnings.warn(\n"
          ]
        }
      ],
      "source": [
        "import pandas as pd\n",
        "from sklearn.model_selection import train_test_split\n",
        "from sklearn.ensemble import RandomForestRegressor\n",
        "from sklearn.preprocessing import StandardScaler\n",
        "from sklearn.metrics import mean_squared_error, r2_score\n",
        "\n",
        "\n",
        "energy = pd.read_csv(\"/content/Household_energy_data.csv\")\n",
        "\n",
        "\n",
        "energy = energy.sample(10000, random_state=15)\n",
        "\n",
        "energy['Year'] = pd.to_datetime(energy['Year'], format='%Y').dt.strftime('%Y')\n",
        "energy['Month'] = pd.to_datetime(energy['Month'], format='%b').dt.strftime('%b')\n",
        "energy[\"Household_ID\"] = energy[\"Household_ID\"].astype(str)\n",
        "\n",
        "\n",
        "energy_con = energy.drop(columns=['Total_Consumption_kWh'])\n",
        "\n",
        "data = pd.get_dummies(energy_con, columns=['Country', 'Appliance', 'Month', 'Year'])\n",
        "data = data.drop(columns=['Household_ID'])\n",
        "\n",
        "\n",
        "Y = data['Energy_Consumption_kWh']\n",
        "X = data.drop(columns=['Energy_Consumption_kWh'])\n",
        "\n",
        "\n",
        "X_train, X_test, Y_train, Y_test = train_test_split(X, Y, test_size=0.2, random_state=42)\n",
        "\n",
        "\n",
        "model = RandomForestRegressor(n_estimators=100, random_state=42)\n",
        "model.fit(X_train, Y_train)\n",
        "\n",
        "\n",
        "Y_pred = model.predict(X_test)\n",
        "mse = mean_squared_error(Y_test, Y_pred)\n",
        "r2 = r2_score(Y_test, Y_pred)\n",
        "print('MSE:', mse)\n",
        "print('R2:', r2)\n",
        "\n",
        "\n",
        "\n",
        "def predict_energy_consumption():\n",
        "    country = input(str(\"Enter country: \"))\n",
        "    if country not in energy['Country'].unique():\n",
        "        print(\"Invalid country. Please enter a valid country from the list.\")\n",
        "        return\n",
        "    month = input(str(\"Enter month (e.g., Jan, Feb, etc.): \"))\n",
        "    if month not in ['Jan', 'Feb', 'Mar', 'Apr', 'May', 'Jun', 'Jul', 'Aug', 'Sep', 'Oct', 'Nov', 'Dec']:\n",
        "        print(\"Invalid month. Please enter a valid month (e.g., Jan, Feb, etc.).\")\n",
        "        return\n",
        "    year = int(input(\"Enter year (e.g., 2020): \"))\n",
        "    if year <2010:\n",
        "      print(\"Invalid year. Please enter a valid year (between 2020 and 2023).\")\n",
        "      return\n",
        "\n",
        "\n",
        "    appliances = []\n",
        "    num_appliances = int(input(\"Enter number of appliances: \"))\n",
        "    for i in range(num_appliances):\n",
        "        appliance = str(input(f\"Enter appliance {i+1}: \"))\n",
        "        if appliance not in energy['Appliance'].unique():\n",
        "          print(\"Invalid appliance. Please enter a valid appliance from the list.\")\n",
        "          return\n",
        "        appliances.append(appliance)\n",
        "\n",
        "    scaler = StandardScaler()\n",
        "    X_train_scaled = scaler.fit_transform(X_train)\n",
        "\n",
        "    total_prediction = 0\n",
        "    for appliance in appliances:\n",
        "        input_data = pd.DataFrame({\n",
        "            'Country': [country],\n",
        "            'Month': [month],\n",
        "            'Year': [year],\n",
        "            'Appliance': [appliance]  })\n",
        "        input_data = pd.get_dummies(input_data, columns=['Country', 'Appliance', 'Month', 'Year'])\n",
        "        input_data = input_data.reindex(columns=X_train.columns, fill_value=0)\n",
        "        input_data_scaled = scaler.transform(input_data)\n",
        "        prediction = model.predict(input_data_scaled)\n",
        "        total_prediction = total_prediction + prediction[0]\n",
        "\n",
        "    print(f\"Predicted energy consumption for {num_appliances} appliances: {round(total_prediction, 2)} kWh\")\n",
        "    return total_prediction\n",
        "predicted_energy = predict_energy_consumption()\n",
        "print(\"The stored predicted energy value is:\", predicted_energy)\n",
        "\n",
        "\n",
        "#appliance = input(str(\"Enter appliance: \"))\n",
        "#    if appliance not in energy['Appliance'].unique():\n",
        "#      print(\"Invalid appliance. Please enter a valid appliance from the list.\")\n",
        "#      return'''\n",
        "#    input_data = pd.DataFrame({\n",
        "#       'Country': [country],\n",
        "#        'Month': [month],\n",
        "#        'Year': [year],\n",
        "#        'Appliance': [appliance]\n",
        "#    })\n",
        "\n",
        "\n",
        "#    input_data = pd.get_dummies(input_data, columns=['Country', 'Appliance', 'Month', 'Year'])\n",
        "#\n",
        "#\n",
        "#    input_data = input_data.reindex(columns=X_train.columns, fill_value=0)\n",
        "\n",
        "\n",
        "#    scaler = StandardScaler()\n",
        "#    X_train_scaled = scaler.fit_transform(X_train)\n",
        "#    input_data_scaled = scaler.transform(input_data)\n",
        "\n",
        "\n",
        "#    prediction = model.predict(input_data_scaled)\n",
        "#    total_prediction = total_prediction + prediction[0]\n",
        "\n",
        "\n",
        "\n",
        "#    print(\"Predicted energy consumption:\", round(total_prediction, 2), \"kWh\")\n",
        "\n",
        "\n",
        "#predict_energy_consumption()\n"
      ]
    },
    {
      "cell_type": "code",
      "source": [
        "\n",
        "def predict_energy_consumption():\n",
        "    global country\n",
        "    country = input(str(\"Enter country: \"))\n",
        "    if country not in energy['Country'].unique():\n",
        "        print(\"Invalid country. Please enter a valid country from the list.\")\n",
        "        return\n",
        "    month = input(str(\"Enter month (e.g., Jan, Feb, etc.): \"))\n",
        "    if month not in ['Jan', 'Feb', 'Mar', 'Apr', 'May', 'Jun', 'Jul', 'Aug', 'Sep', 'Oct', 'Nov', 'Dec']:\n",
        "        print(\"Invalid month. Please enter a valid month (e.g., Jan, Feb, etc.).\")\n",
        "        return\n",
        "    year = int(input(\"Enter year (e.g., 2020): \"))\n",
        "    if year <2010:\n",
        "      print(\"Invalid year. Please enter a valid year (between 2020 and 2023).\")\n",
        "      return\n",
        "\n",
        "\n",
        "    appliances = []\n",
        "    num_appliances = int(input(\"Enter number of appliances: \"))\n",
        "    for i in range(num_appliances):\n",
        "        appliance = str(input(f\"Enter appliance {i+1}: \"))\n",
        "        if appliance not in energy['Appliance'].unique():\n",
        "          print(\"Invalid appliance. Please enter a valid appliance from the list.\")\n",
        "          return\n",
        "        appliances.append(appliance)\n",
        "\n",
        "    scaler = StandardScaler()\n",
        "    X_train_scaled = scaler.fit_transform(X_train)\n",
        "\n",
        "    total_prediction = 0\n",
        "    for appliance in appliances:\n",
        "        input_data = pd.DataFrame({\n",
        "            'Country': [country],\n",
        "            'Month': [month],\n",
        "            'Year': [year],\n",
        "            'Appliance': [appliance]  })\n",
        "        input_data = pd.get_dummies(input_data, columns=['Country', 'Appliance', 'Month', 'Year'])\n",
        "        input_data = input_data.reindex(columns=X_train.columns, fill_value=0)\n",
        "        input_data_scaled = scaler.transform(input_data)\n",
        "        prediction = model.predict(input_data_scaled)\n",
        "        total_prediction = total_prediction + prediction[0]\n",
        "\n",
        "    print(f\"Predicted energy consumption for {num_appliances} appliances: {round(total_prediction, 2)} kWh\")\n",
        "    return total_prediction\n",
        "predicted_energy = predict_energy_consumption()\n",
        "print(\"The stored predicted energy value is:\", predicted_energy)\n",
        "print(country)\n",
        "\n",
        "\n",
        "def suggest_alternate_source(predicted_energy, country):\n",
        "    alt_energy = pd.read_csv(\"/content/alternate_energy_sources.csv\")\n",
        "\n",
        "    # Filter by country and suitable energy range\n",
        "    filtered_alt = alt[(alt['Country'] == country) & (alt['Min Consumption (kWh)'] <= predicted_energy) & (alt['Max Consumption (kWh)'] >= predicted_energy)].sort_values('Avg Installation Cost ($)')\n",
        "\n",
        "    # Sort by Average Installation Cost (ascending)\n",
        "    #filtered_alt = filtered_alt\n",
        "\n",
        "    print(filtered_alt[['Energy Source', 'Avg Installation Cost ($)', 'Max Consumption (kWh)' ]])\n",
        "\n",
        "suggest_alternate_source(predicted_energy, country)\n"
      ],
      "metadata": {
        "colab": {
          "base_uri": "https://localhost:8080/"
        },
        "id": "89nFro1OfWac",
        "outputId": "72689447-084e-480e-82a3-d2c891c6765f"
      },
      "execution_count": 129,
      "outputs": [
        {
          "output_type": "stream",
          "name": "stdout",
          "text": [
            "Enter country: Japan\n",
            "Enter month (e.g., Jan, Feb, etc.): Feb\n",
            "Enter year (e.g., 2020): 2020\n",
            "Enter number of appliances: 4\n",
            "Enter appliance 1: Fan\n",
            "Enter appliance 2: Lights\n",
            "Enter appliance 3: Oven\n",
            "Enter appliance 4: Oven\n",
            "Predicted energy consumption for 4 appliances: 340.65 kWh\n",
            "The stored predicted energy value is: 340.6506716666667\n",
            "Japan\n",
            "    Energy Source  Avg Installation Cost ($)  Max Consumption (kWh)\n",
            "134    Hydropower                     3000.0                    500\n",
            "135       Biomass                     3500.0                    500\n",
            "133    Wind Power                     5750.0                    500\n",
            "132   Solar Power                    18750.0                    500\n"
          ]
        },
        {
          "output_type": "stream",
          "name": "stderr",
          "text": [
            "/usr/local/lib/python3.10/dist-packages/sklearn/base.py:439: UserWarning: X does not have valid feature names, but RandomForestRegressor was fitted with feature names\n",
            "  warnings.warn(\n",
            "/usr/local/lib/python3.10/dist-packages/sklearn/base.py:439: UserWarning: X does not have valid feature names, but RandomForestRegressor was fitted with feature names\n",
            "  warnings.warn(\n",
            "/usr/local/lib/python3.10/dist-packages/sklearn/base.py:439: UserWarning: X does not have valid feature names, but RandomForestRegressor was fitted with feature names\n",
            "  warnings.warn(\n",
            "/usr/local/lib/python3.10/dist-packages/sklearn/base.py:439: UserWarning: X does not have valid feature names, but RandomForestRegressor was fitted with feature names\n",
            "  warnings.warn(\n"
          ]
        }
      ]
    },
    {
      "cell_type": "code",
      "source": [],
      "metadata": {
        "id": "GzPi6b7ttjhd"
      },
      "execution_count": null,
      "outputs": []
    },
    {
      "cell_type": "code",
      "source": [],
      "metadata": {
        "id": "QLqw2lQZtjd2"
      },
      "execution_count": null,
      "outputs": []
    },
    {
      "cell_type": "code",
      "source": [],
      "metadata": {
        "id": "GUKotf-0tjba"
      },
      "execution_count": null,
      "outputs": []
    },
    {
      "cell_type": "code",
      "source": [],
      "metadata": {
        "id": "ljBQoTP5tjZF"
      },
      "execution_count": null,
      "outputs": []
    },
    {
      "cell_type": "code",
      "source": [],
      "metadata": {
        "id": "3uErVJPQtjWf"
      },
      "execution_count": null,
      "outputs": []
    },
    {
      "cell_type": "code",
      "source": [],
      "metadata": {
        "id": "6xsvK9WnslFG"
      },
      "execution_count": null,
      "outputs": []
    },
    {
      "cell_type": "code",
      "source": [],
      "metadata": {
        "id": "MOTTf7rOslC1"
      },
      "execution_count": null,
      "outputs": []
    },
    {
      "cell_type": "code",
      "source": [],
      "metadata": {
        "id": "auxQL0_8slAC"
      },
      "execution_count": null,
      "outputs": []
    },
    {
      "cell_type": "code",
      "source": [],
      "metadata": {
        "id": "ZHjG9cC1r2wX"
      },
      "execution_count": null,
      "outputs": []
    }
  ]
}